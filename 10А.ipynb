{
  "nbformat": 4,
  "nbformat_minor": 0,
  "metadata": {
    "colab": {
      "provenance": []
    },
    "kernelspec": {
      "name": "python3",
      "display_name": "Python 3"
    },
    "language_info": {
      "name": "python"
    }
  },
  "cells": [
    {
      "cell_type": "markdown",
      "source": [
        "## Команда `print`\n",
        "\n",
        "Первая программа на Python:"
      ],
      "metadata": {
        "id": "9whi4BF9Dcxu"
      }
    },
    {
      "cell_type": "code",
      "execution_count": null,
      "metadata": {
        "colab": {
          "base_uri": "https://localhost:8080/"
        },
        "id": "lmk33gqG98yD",
        "outputId": "4b47e52b-ba7c-4494-fe78-ee29731ea82c"
      },
      "outputs": [
        {
          "output_type": "stream",
          "name": "stdout",
          "text": [
            "Hello world\n"
          ]
        }
      ],
      "source": [
        "print(\"Hello world\")"
      ]
    },
    {
      "cell_type": "markdown",
      "source": [
        "Каждый вызов `print` выводит свою строку:"
      ],
      "metadata": {
        "id": "p13SMxvW_DWp"
      }
    },
    {
      "cell_type": "code",
      "source": [
        "print(\"Первая строка\")\n",
        "print(\"Вторая строка\")\n",
        "print('Третья строка')\n",
        "# print('Третья строка\") Ошибка"
      ],
      "metadata": {
        "id": "PinHfJAY_MHZ",
        "outputId": "f290ed1f-ae2a-4cf6-dd90-14990f4a10db",
        "colab": {
          "base_uri": "https://localhost:8080/"
        }
      },
      "execution_count": null,
      "outputs": [
        {
          "output_type": "stream",
          "name": "stdout",
          "text": [
            "Первая строка\n",
            "Вторая строка\n",
            "Третья строка\n"
          ]
        }
      ]
    },
    {
      "cell_type": "markdown",
      "source": [
        "Попробуем вывести двойную кавычку:"
      ],
      "metadata": {
        "id": "52oSMh2LAibB"
      }
    },
    {
      "cell_type": "code",
      "source": [
        "print(\"\"\")"
      ],
      "metadata": {
        "colab": {
          "base_uri": "https://localhost:8080/",
          "height": 106
        },
        "id": "CGpnyKHLAsSz",
        "outputId": "ef6f12c7-f22a-4802-c04e-53414628ba57"
      },
      "execution_count": null,
      "outputs": [
        {
          "output_type": "error",
          "ename": "SyntaxError",
          "evalue": "incomplete input (<ipython-input-7-3f29872ceae9>, line 1)",
          "traceback": [
            "\u001b[0;36m  File \u001b[0;32m\"<ipython-input-7-3f29872ceae9>\"\u001b[0;36m, line \u001b[0;32m1\u001b[0m\n\u001b[0;31m    print(\"\"\")\u001b[0m\n\u001b[0m          ^\u001b[0m\n\u001b[0;31mSyntaxError\u001b[0m\u001b[0;31m:\u001b[0m incomplete input\n"
          ]
        }
      ]
    },
    {
      "cell_type": "code",
      "source": [
        "print('\"')\n",
        "print(\"'\")\n",
        "print(\"\\\"\")"
      ],
      "metadata": {
        "colab": {
          "base_uri": "https://localhost:8080/"
        },
        "id": "BdQINwtGA1nr",
        "outputId": "6129c96d-fb1d-4254-a1b2-6cb257decb06"
      },
      "execution_count": null,
      "outputs": [
        {
          "output_type": "stream",
          "name": "stdout",
          "text": [
            "\"\n",
            "'\n",
            "\"\n"
          ]
        }
      ]
    },
    {
      "cell_type": "markdown",
      "source": [
        "А как вывести слэш?"
      ],
      "metadata": {
        "id": "mtniZVp_A_fY"
      }
    },
    {
      "cell_type": "code",
      "source": [
        "print(\"\\\")"
      ],
      "metadata": {
        "colab": {
          "base_uri": "https://localhost:8080/",
          "height": 106
        },
        "id": "MYAVK4oFBCiV",
        "outputId": "0b822cc0-5f50-40e0-9865-7958a4561825"
      },
      "execution_count": null,
      "outputs": [
        {
          "output_type": "error",
          "ename": "SyntaxError",
          "evalue": "unterminated string literal (detected at line 1) (<ipython-input-11-dff1232de400>, line 1)",
          "traceback": [
            "\u001b[0;36m  File \u001b[0;32m\"<ipython-input-11-dff1232de400>\"\u001b[0;36m, line \u001b[0;32m1\u001b[0m\n\u001b[0;31m    print(\"\\\")\u001b[0m\n\u001b[0m          ^\u001b[0m\n\u001b[0;31mSyntaxError\u001b[0m\u001b[0;31m:\u001b[0m unterminated string literal (detected at line 1)\n"
          ]
        }
      ]
    },
    {
      "cell_type": "code",
      "source": [
        "print(\"\\\\\")\n",
        "print(\"\\\\\\\\\")"
      ],
      "metadata": {
        "colab": {
          "base_uri": "https://localhost:8080/"
        },
        "id": "QdWHqIUOBJrZ",
        "outputId": "af9d2a29-e35d-4987-eb4b-9202aa120b81"
      },
      "execution_count": null,
      "outputs": [
        {
          "output_type": "stream",
          "name": "stdout",
          "text": [
            "\\\n",
            "\\\\\n"
          ]
        }
      ]
    },
    {
      "cell_type": "markdown",
      "source": [
        "**Задание**. Написать программу, которая выводит кролика:\n",
        "\n",
        "![image.png](data:image/png;base64,iVBORw0KGgoAAAANSUhEUgAAAFUAAABSCAIAAACqkg+1AAAEm0lEQVR4Ae1ci7GtIAy0LguiHquxGYrxDsQPYBI3oM5xLs68eRCXJJvgB+K5w/K/j+F/0186/8oJ4OfJjW5OR89udNPsU9E97Qdt1eTfz24c4lHyJ+no7gvC07bs/GcXWEocN3/zyNROg+dtGfn7KWZeZ7d6PTVeCa/YsvEnZjr7kGsUp80LVAeK422Z+EdTI5JXyt11oHin9hA+b8vC30IKDxUfgrdsWfhbOFn85yLwlq3On4s+L3srJ8H6W7Z6/vlcc9K3ctLz/5vz33JPt8wVbq69Zcty/S+4U630l7dsmfivTl2+lVGcLmFc3g8ZqASEHXrzlo3/lpZBWeH6mPuhkX3wkqg9a8vKf1lWfsM4uslnSzzvJzfSzoASnzz+eu95W3b+lBnaAckXOGviHbJA0nmnZ0NQw47DM7bq+JN/fs73ecp+yqK1Xeou+7X6W/jX2vylcZ3/L2XjfV96/t+P+S9Z7Pn/pWy870vPf2XMmZpcpaaqYXfVGmvyv9W4ynfSKiKVg+hdW67DoWrt/Le3/PzdF7V3J27LQ74ysFkw8t+XpDYrz6FbF9s2/mTtOt7e5yvjWv6IHtQn3gcT/2jqemMjTpJrGO9QIgX10Jy8Tkqi+Wha+KOGQL8PJ4QWqgdMC2tlWGY3CkcZUtVOMuNLv5NTrA+ZMAGjeiKu2B8JO+gCreyrnbv401U40mchoROCF27QzN5Nxrfo1Ohp4184oHSV/Cdbf+GZ7Mbwj74GYjYKZRtVenj+spH0jOX6V/jvKr33c/xGJn4KVv8UsOj5Jf60ae2mEIOmR0Akhelp409X3DpXs/9M9z+aAaQsDDxa+9wwNI7RR0sczvOngRmhtZPyGhY/OeEo97F5O4lbma+EPt2WE7jYNOqJ8NNkw3hZrv+rmlx8H0+DOzvpO8H1C8rsUbSHw6AnjOHp79r0hok/Wv/TTW4ux9mYhutyGAegaXbKPgflZDb+SE2Os1LK1muj8Ra51+Kq2S8V33/LNbmSpd5H1jayhuRFoanWaM0/ecTX5GRv7z9Dt8hQgm3TXcd/jUJR/2vzxDa61/9s8ZLQLfmXdH5J3vl/KVv3+9rzf39Mv6Sx5/9L2brf1+r8I/U/BMNQQmp7CIZRfRLV8N/qTlr9D8GcnFkF9G6r1/YQjKQ/ldv5b2/eWv0PwaRenNtb/LT1MYI5a84lRv7Ipg6CyZ0QemsU1SUOghHUR7GNP1nTctK68Zf7+rw9E//ozsVmA4LJSWo9mkt6wBGMaMPCHzGEYERnmBNIOBEMozqKLPwROwhG8oWTI/FEMJzuIOv8pcic5UhuEcxZsyxBcotgJAs9/1JkznIktwjmrFmWILlFMJKFnn8pMmc5EmcEc9YsS5D5hGAkC5b8X9X/oo17A4BQQzASfdPzb6t+6W+AFAAdI7qTn0BUIZhca9Yz5R/6Td4WJe13e5kLQgf5HSGCEdSvYiv/veaoftbD1wjDdoh4JH84CantIRidOZ218w/jkPrfGUNTlfsiI/xBoWOZGy/oQa/tIZjn+JNmpAaHYEo/kTEIptTL9evyz2n6pqzz/2be7vL6D/OjSgabZhy2AAAAAElFTkSuQmCC)"
      ],
      "metadata": {
        "id": "na34-nD7DSnS"
      }
    },
    {
      "cell_type": "markdown",
      "source": [
        "**Задание**. Написать программу, которая выводит птицу:\n",
        "\n",
        "![image.png](data:image/png;base64,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)"
      ],
      "metadata": {
        "id": "hnOmN4D9D_ww"
      }
    },
    {
      "cell_type": "markdown",
      "source": [
        "Есть особый символ `\\n`. Он создает новый абзац. Или по другому — это символ перевода на новую строку."
      ],
      "metadata": {
        "id": "QakBr_r3FJw5"
      }
    },
    {
      "cell_type": "code",
      "source": [
        "print(\"111\")\n",
        "print(\"222\")"
      ],
      "metadata": {
        "id": "ZoKT8A1pErxX",
        "outputId": "7948d247-3217-40c7-9ab9-cda88bdbe0c1",
        "colab": {
          "base_uri": "https://localhost:8080/"
        }
      },
      "execution_count": null,
      "outputs": [
        {
          "output_type": "stream",
          "name": "stdout",
          "text": [
            "111\n",
            "222\n"
          ]
        }
      ]
    },
    {
      "cell_type": "code",
      "source": [
        "print(\"111\\n222\")"
      ],
      "metadata": {
        "id": "xSSLzn32E4Pg",
        "outputId": "dfe9fcd3-d96c-4f03-8313-bb1a7d20c275",
        "colab": {
          "base_uri": "https://localhost:8080/"
        }
      },
      "execution_count": null,
      "outputs": [
        {
          "output_type": "stream",
          "name": "stdout",
          "text": [
            "111\n",
            "222\n"
          ]
        }
      ]
    },
    {
      "cell_type": "markdown",
      "source": [
        "# Перменные и их ввод\n"
      ],
      "metadata": {
        "id": "ZUptW--m8q84"
      }
    },
    {
      "cell_type": "code",
      "source": [
        "a = 5\n",
        "b = 6\n",
        "print(\"a\") # вывведет текст, а не значение перменной\n",
        "print(a)\n",
        "print(b)\n",
        "a = 9\n",
        "print(a)"
      ],
      "metadata": {
        "colab": {
          "base_uri": "https://localhost:8080/"
        },
        "id": "q52XMe9S9CuC",
        "outputId": "44611c7c-d054-4449-c511-93f8f3670760"
      },
      "execution_count": null,
      "outputs": [
        {
          "output_type": "stream",
          "name": "stdout",
          "text": [
            "a\n",
            "5\n",
            "6\n",
            "9\n"
          ]
        }
      ]
    },
    {
      "cell_type": "markdown",
      "source": [
        "Python - это язык динамической дипизации, а не статической, как C++."
      ],
      "metadata": {
        "id": "vUnZ1hQ897bm"
      }
    },
    {
      "cell_type": "code",
      "source": [
        "a = 5\n",
        "a = 5.6\n",
        "a = \"string\""
      ],
      "metadata": {
        "id": "W_3eFsFQ9mGU"
      },
      "execution_count": null,
      "outputs": []
    },
    {
      "cell_type": "markdown",
      "source": [
        "Пример того же кода на C++:\n",
        "\n",
        "```cpp\n",
        "int a = 5;\n",
        "double b = 5.6;\n",
        "string c = \"string\";\n",
        "```\n"
      ],
      "metadata": {
        "id": "50eWp21w-CkR"
      }
    },
    {
      "cell_type": "code",
      "source": [
        "a = 6\n",
        "b = 3\n",
        "a2 = 6\n",
        "speed = 6\n",
        "speed_enemy = 6 # этот стиль называется snake case\n",
        "speed_enemy_second = 6 # этот стиль называется snake case\n",
        "PI = 3.14 # константа\n",
        "GRAVITY = 9.8 # константа\n",
        "_speed = 6\n",
        "__speed = 6\n",
        "_ = 6\n",
        "\n",
        "bksdkj = 6 # можно, но не нужно\n",
        "skorost_vraga = 6 # можно, но не нужно\n",
        "speedEnemy = 6 # можно, но не нужно. Это стиль C++: lower camel case\n",
        "speedEnemySecond = 6 # можно, но не нужно. Это стиль C++: lower camel case\n",
        "привет = 6 # можно, но не нужно\n",
        "再见 = 6 # можно, но не нужно\n",
        "Hoşça_kalın=6 # можно, но не нужно\n",
        "\n",
        "# 2a = 6 # так нельзя\n",
        "# speed enemy = 6 # так нельзя\n",
        "# speed-enemy = 6 # так нельзя\n",
        "# +a = 6 # так нельзя"
      ],
      "metadata": {
        "id": "OI2ZRQM4_Rp6"
      },
      "execution_count": null,
      "outputs": []
    },
    {
      "cell_type": "code",
      "source": [
        "напечатать = print\n",
        "\n",
        "напечатать(\"Hello world!\")"
      ],
      "metadata": {
        "colab": {
          "base_uri": "https://localhost:8080/"
        },
        "id": "yVDhITVYCk50",
        "outputId": "e4c1f102-231a-4736-a135-9a8a336fbcba"
      },
      "execution_count": null,
      "outputs": [
        {
          "output_type": "stream",
          "name": "stdout",
          "text": [
            "Hello world!\n"
          ]
        }
      ]
    },
    {
      "cell_type": "markdown",
      "source": [
        "a = 6\n",
        "b = 3\n",
        "a, b = 6, 3"
      ],
      "metadata": {
        "id": "FQcFeLt_Czd9"
      }
    },
    {
      "cell_type": "code",
      "source": [
        "# так не нужно\n",
        "a = 6\n",
        "b = 3\n",
        "print(a + b)\n",
        "a = 6\n",
        "b = 3\n",
        "print(a - b)\n",
        "a = 6\n",
        "b = 3\n",
        "print(a * b)\n",
        "a = 6\n",
        "b = 3\n",
        "print(a / b)\n"
      ],
      "metadata": {
        "colab": {
          "base_uri": "https://localhost:8080/"
        },
        "id": "YjzbOWe6C8b7",
        "outputId": "3a3ef66a-6149-47b1-dbd2-0b0c2a7c851c"
      },
      "execution_count": null,
      "outputs": [
        {
          "output_type": "stream",
          "name": "stdout",
          "text": [
            "9\n"
          ]
        }
      ]
    },
    {
      "cell_type": "code",
      "source": [
        "a = 6\n",
        "b = 3\n",
        "print(a + b)\n",
        "print(a - b)\n",
        "print(a * b)\n",
        "print(a / b)"
      ],
      "metadata": {
        "colab": {
          "base_uri": "https://localhost:8080/"
        },
        "id": "TE8rqdRIEMn9",
        "outputId": "a0837621-05fc-45be-d312-c384ecb0a98f"
      },
      "execution_count": null,
      "outputs": [
        {
          "output_type": "stream",
          "name": "stdout",
          "text": [
            "9\n",
            "3\n",
            "18\n",
            "2.0\n"
          ]
        }
      ]
    },
    {
      "cell_type": "code",
      "source": [
        "print(\"Hello world\")\n",
        "print(\"Hello\", \"world\")"
      ],
      "metadata": {
        "id": "usRFg0RMEXQA"
      },
      "execution_count": null,
      "outputs": []
    },
    {
      "cell_type": "code",
      "source": [
        "a, b = 6, 3\n",
        "c = a + b\n",
        "print(a, \"+\", b, \"=\", c)"
      ],
      "metadata": {
        "colab": {
          "base_uri": "https://localhost:8080/"
        },
        "id": "nsnQLpsXEsRA",
        "outputId": "a96a2f62-cb4f-4988-a53f-c46be2f04791"
      },
      "execution_count": null,
      "outputs": [
        {
          "output_type": "stream",
          "name": "stdout",
          "text": [
            "6 + 3 = 9\n"
          ]
        }
      ]
    },
    {
      "cell_type": "markdown",
      "source": [
        "Уберем пробелы"
      ],
      "metadata": {
        "id": "e91qYswAIViY"
      }
    },
    {
      "cell_type": "code",
      "source": [
        "a, b = 6, 3\n",
        "c = a + b\n",
        "print(a, \"+\", b, \"=\", c)\n",
        "print(a, \"+\", b, \"=\", c, sep=\" \")\n",
        "print(a, \"+\", b, \"=\", c, sep=\"-\")\n",
        "print(a, \"+\", b, \"=\", c, sep=\"_-`-_\")\n",
        "print(a, \"+\", b, \"=\", c, sep=\"\\n\")\n",
        "print(a, \"+\", b, \"=\", c, sep=\"\")"
      ],
      "metadata": {
        "colab": {
          "base_uri": "https://localhost:8080/"
        },
        "id": "MSvr6HHAIYP-",
        "outputId": "73798c6e-a5cd-4cf1-e710-f0e9b0764442"
      },
      "execution_count": null,
      "outputs": [
        {
          "output_type": "stream",
          "name": "stdout",
          "text": [
            "6 + 3 = 9\n",
            "6 + 3 = 9\n",
            "6-+-3-=-9\n",
            "6_-`-_+_-`-_3_-`-_=_-`-_9\n",
            "6\n",
            "+\n",
            "3\n",
            "=\n",
            "9\n",
            "6+3=9\n"
          ]
        }
      ]
    },
    {
      "cell_type": "code",
      "source": [
        "a, b = 6, 3\n",
        "c = a + b\n",
        "print(a, \"+\", b, \"=\", c, sep=\"\")\n",
        "print(f\"{a}+{b}={c}\")\n",
        "print(\"{}+{}={}\".format(a, b, c))\n",
        "print(\"{a}+{b}={c}\")\n",
        "print(f\"{a} +{b}=         {c}!\")"
      ],
      "metadata": {
        "colab": {
          "base_uri": "https://localhost:8080/"
        },
        "id": "YPWZqvL1I8jJ",
        "outputId": "d74fa6ec-9505-4108-d99b-efbd12730818"
      },
      "execution_count": null,
      "outputs": [
        {
          "output_type": "stream",
          "name": "stdout",
          "text": [
            "6+3=9\n",
            "6+3=9\n",
            "6+3=9\n",
            "{a}+{b}={c}\n",
            "6 +3=         9!\n"
          ]
        }
      ]
    },
    {
      "cell_type": "code",
      "source": [
        "x = 6\n",
        "print((x+7)/(x-3) + (3*x+1)/(7-x))"
      ],
      "metadata": {
        "id": "cw5K1pRYJsTr"
      },
      "execution_count": null,
      "outputs": []
    },
    {
      "cell_type": "markdown",
      "source": [
        "# Арифметические операции"
      ],
      "metadata": {
        "id": "MMD0kw7Iqsg6"
      }
    },
    {
      "cell_type": "code",
      "source": [
        "print(5 + 2)\n",
        "print(5 - 2)\n",
        "print(5 * 2)\n",
        "print(5 / 2)\n",
        "print(5 ** 2)\n",
        "\n",
        "print(5 // 2) # Целочисленное деление\n",
        "print(5 % 2) # Остаток от деления"
      ],
      "metadata": {
        "colab": {
          "base_uri": "https://localhost:8080/"
        },
        "id": "rnu6x1U-qzTd",
        "outputId": "8312bd4f-edbe-42ed-b845-42413351ccbc"
      },
      "execution_count": null,
      "outputs": [
        {
          "output_type": "stream",
          "name": "stdout",
          "text": [
            "7\n",
            "3\n",
            "10\n",
            "2.5\n",
            "25\n",
            "2\n",
            "1\n"
          ]
        }
      ]
    },
    {
      "cell_type": "markdown",
      "source": [
        "10 % 6 == 4\n",
        "\n",
        "12 % 3 == 0\n",
        "\n",
        "3 % 4 == 3\n",
        "\n",
        "7 % 2 == 1\n",
        "\n",
        "7 // 2 == 3\n",
        "\n",
        "12 // 6 == 2\n",
        "\n",
        "3 // 6 == 0"
      ],
      "metadata": {
        "id": "gA6J9JnJrjIZ"
      }
    },
    {
      "cell_type": "markdown",
      "source": [
        "`a // b == int(a / b)`\n",
        "\n",
        "Если a / b = 8.123\n",
        "\n",
        "то a // b = 8\n",
        "\n",
        "Если a / b = 8.969\n",
        "\n",
        "то a // b = 8"
      ],
      "metadata": {
        "id": "AjT7Glpxr5rx"
      }
    },
    {
      "cell_type": "markdown",
      "source": [
        "7 % 2 == 1\n",
        "\n",
        "14 % 2 == 0\n",
        "\n",
        "120 % 2 == 0\n",
        "\n",
        "121 % 2 == 1\n",
        "\n",
        "1112454788545115721 % 2 == 1\n",
        "\n",
        "Нечетные числа дают 1 в остатке при делении на 2.\n",
        "\n",
        "Четные числа дают 0 в остатке при делении на 2."
      ],
      "metadata": {
        "id": "L28zejVcsmFD"
      }
    },
    {
      "cell_type": "markdown",
      "source": [
        "121 // 10 == 12\n",
        "\n",
        "69 // 10 == 6\n",
        "\n",
        "45623 // 10 == 4562\n",
        "\n",
        "Целочисленное делеление на 10 убирает последнюю цифру."
      ],
      "metadata": {
        "id": "yHhJ6-LZtHkW"
      }
    },
    {
      "cell_type": "markdown",
      "source": [
        "121 % 10 == 1\n",
        "\n",
        "69 % 10 == 9\n",
        "\n",
        "45623 % 10 == 3\n",
        "\n",
        "Остаток от деления на 10 дает последнюю цифру."
      ],
      "metadata": {
        "id": "p0uvZ4vPtcz6"
      }
    },
    {
      "cell_type": "markdown",
      "source": [
        "3 % 10 == 3\n",
        "\n",
        "69 % 12345985 == 69\n",
        "\n",
        "42 % 12223 == 42\n",
        "\n",
        "a % b == a, если b > a"
      ],
      "metadata": {
        "id": "j_GRe88vtqkM"
      }
    },
    {
      "cell_type": "code",
      "source": [
        "x = int(input())\n",
        "y = int(input())\n",
        "print(x + y)"
      ],
      "metadata": {
        "colab": {
          "base_uri": "https://localhost:8080/"
        },
        "id": "jz2Wh1dWuHKS",
        "outputId": "b7f509a6-0240-48f3-f743-2c48cf575ddd"
      },
      "execution_count": null,
      "outputs": [
        {
          "output_type": "stream",
          "name": "stdout",
          "text": [
            "2\n",
            "3\n",
            "5\n"
          ]
        }
      ]
    },
    {
      "cell_type": "markdown",
      "source": [
        "С клавиатуры вводится двузначное число. Найти сумму его цифр."
      ],
      "metadata": {
        "id": "riIkiDfeunIg"
      }
    },
    {
      "cell_type": "code",
      "source": [
        "x = int(input())\n",
        "d1 = x % 10\n",
        "d2 = x // 10\n",
        "print(d1 + d2)"
      ],
      "metadata": {
        "colab": {
          "base_uri": "https://localhost:8080/"
        },
        "id": "HGh_UK1kvu3R",
        "outputId": "2fffb740-2c77-4a09-8668-f3ea34733415"
      },
      "execution_count": null,
      "outputs": [
        {
          "output_type": "stream",
          "name": "stdout",
          "text": [
            "99\n",
            "18\n"
          ]
        }
      ]
    },
    {
      "cell_type": "markdown",
      "source": [
        "С клавиатуры вводится трехзначное число. Найти сумму его цифр."
      ],
      "metadata": {
        "id": "cjYJqBZVwapj"
      }
    },
    {
      "cell_type": "code",
      "source": [
        "x = int(input())\n",
        "d1 = x % 10\n",
        "d2 = x // 10\n",
        "d3 = d2 % 10\n",
        "d4 = d2 // 10\n",
        "print(d1 + d3 + d4)"
      ],
      "metadata": {
        "colab": {
          "base_uri": "https://localhost:8080/"
        },
        "id": "mWd-LFcIwfbN",
        "outputId": "5f83d09f-aac5-47f7-b17a-cece3abe6447"
      },
      "execution_count": null,
      "outputs": [
        {
          "output_type": "stream",
          "name": "stdout",
          "text": [
            "123\n",
            "6\n"
          ]
        }
      ]
    },
    {
      "cell_type": "markdown",
      "source": [
        "С клавиатуры вводится шестизначное число. Найти сумму его цифр."
      ],
      "metadata": {
        "id": "sxytuxhRxuGU"
      }
    },
    {
      "cell_type": "code",
      "source": [
        "x=int(input())\n",
        "y=x%10\n",
        "z=x//10\n",
        "a=z//10\n",
        "b=z%10\n",
        "c=a//10\n",
        "v=a%10\n",
        "s=c//10\n",
        "f=c%10\n",
        "n=s//10\n",
        "k=s%10\n",
        "p=n//10\n",
        "o=n%10\n",
        "print(y+b+v+f+k+o)"
      ],
      "metadata": {
        "id": "uNCBgc5ix2j1"
      },
      "execution_count": null,
      "outputs": []
    },
    {
      "cell_type": "code",
      "source": [
        "# Вначале вот такой код\n",
        "\n",
        "x = 6\n",
        "\n",
        "x = x + 1 # x == 7"
      ],
      "metadata": {
        "id": "lTMLAcvByBLH"
      },
      "execution_count": null,
      "outputs": []
    },
    {
      "cell_type": "code",
      "source": [
        "x = int(input())\n",
        "summa = 0\n",
        "summa = summa + x % 10\n",
        "x = x // 10\n",
        "summa = summa + x % 10\n",
        "x = x // 10\n",
        "summa = summa + x % 10\n",
        "x = x // 10\n",
        "summa = summa + x % 10\n",
        "x = x // 10\n",
        "summa = summa + x % 10\n",
        "x = x // 10\n",
        "summa = summa + x % 10\n",
        "x = x // 10\n",
        "print(summa)"
      ],
      "metadata": {
        "colab": {
          "base_uri": "https://localhost:8080/"
        },
        "id": "3EEGhofmyPrf",
        "outputId": "dc16c28a-7731-4bd4-8b2e-54e1d2378f73"
      },
      "execution_count": null,
      "outputs": [
        {
          "output_type": "stream",
          "name": "stdout",
          "text": [
            "123456\n",
            "21\n"
          ]
        }
      ]
    },
    {
      "cell_type": "code",
      "source": [
        "x = int(input())\n",
        "summa = x % 10summa = summa + (x // 100) % 10\n",
        "summa = summa + (x // 10) % 10\n",
        "summa = summa + (x // 100) % 10\n",
        "summa = summa + (x // 1000) % 10\n",
        "summa = summa + (x // 10000) % 10\n",
        "summa = summa + (x // 100000) % 10\n",
        "print(summa)"
      ],
      "metadata": {
        "colab": {
          "base_uri": "https://localhost:8080/"
        },
        "id": "8ySYr4ECy2CI",
        "outputId": "e1bad343-65cd-4e89-e5e3-63d51256c3f9"
      },
      "execution_count": null,
      "outputs": [
        {
          "output_type": "stream",
          "name": "stdout",
          "text": [
            "123456\n",
            "21\n"
          ]
        }
      ]
    },
    {
      "cell_type": "markdown",
      "source": [
        "C 00:00 прошло x минут (вводятся с клавиатуры). Сколько сейчас показывают электронные часы? Максимум они могут показывать 23:59.\n",
        "\n",
        "Например, если x = 123, то часы должны показать 2:3"
      ],
      "metadata": {
        "id": "5inHxIQzzM9V"
      }
    },
    {
      "cell_type": "code",
      "source": [
        "x = int(input())\n",
        "m = x % 60\n",
        "h = (x // 60) % 24\n",
        "print(f\"{h}:{m}\")"
      ],
      "metadata": {
        "colab": {
          "base_uri": "https://localhost:8080/"
        },
        "id": "WLfFFxm74l6v",
        "outputId": "b149b241-97b0-4641-ea0e-556f5f6efcc0"
      },
      "execution_count": null,
      "outputs": [
        {
          "output_type": "stream",
          "name": "stdout",
          "text": [
            "123456\n",
            "17:36\n"
          ]
        }
      ]
    },
    {
      "cell_type": "markdown",
      "source": [
        "Дано четырехзначное число. Написать программу, которая выводит на экран число, образованное при перестановке первой и второй, третьей и четвертой цифр заданного числа.\n",
        "\n",
        "4561\t5416"
      ],
      "metadata": {
        "id": "hI5w0CZT5O53"
      }
    },
    {
      "cell_type": "code",
      "source": [
        "x = 5\n",
        "y = 6\n",
        "t = 3\n",
        "z = t*100 + y * 10 + x"
      ],
      "metadata": {
        "id": "CCOxhzrA8EE3"
      },
      "execution_count": null,
      "outputs": []
    },
    {
      "cell_type": "code",
      "source": [
        "print( \"Я\",\" учусь\", \" программировать!\",sep=\"\" )\n",
        "print( \"2\", \"+\", \"2\", \"=\", \"4\",sep=\"\" )\n",
        "print( \"1\", end=\"\" )\n",
        "print( \"23\", end=\"\" )\n",
        "print( \"456\" )"
      ],
      "metadata": {
        "colab": {
          "base_uri": "https://localhost:8080/"
        },
        "id": "KT5eptYdM81E",
        "outputId": "316235fd-4008-4b90-8a7c-501e826010d2"
      },
      "execution_count": null,
      "outputs": [
        {
          "output_type": "stream",
          "name": "stdout",
          "text": [
            "Я учусь программировать!\n",
            "2+2=4\n",
            "123456\n"
          ]
        }
      ]
    },
    {
      "cell_type": "markdown",
      "source": [
        "# Ввод данных с клавиатуры"
      ],
      "metadata": {
        "id": "_n-eVM6Eui62"
      }
    },
    {
      "cell_type": "code",
      "source": [
        "s = input() # строка\n",
        "print(s + \"!\")"
      ],
      "metadata": {
        "colab": {
          "base_uri": "https://localhost:8080/"
        },
        "id": "HiZhdk8wumrr",
        "outputId": "6312a579-22a6-418a-ad25-e1694e600888"
      },
      "execution_count": null,
      "outputs": [
        {
          "output_type": "stream",
          "name": "stdout",
          "text": [
            "Hello\n",
            "Hello!\n"
          ]
        }
      ]
    },
    {
      "cell_type": "code",
      "source": [
        "a = int(input()) # целое число\n",
        "print(a + 1)"
      ],
      "metadata": {
        "colab": {
          "base_uri": "https://localhost:8080/"
        },
        "id": "3swMqDVVu18g",
        "outputId": "0b766549-8540-4a46-c08e-0232084e0a29"
      },
      "execution_count": null,
      "outputs": [
        {
          "output_type": "stream",
          "name": "stdout",
          "text": [
            "6\n",
            "7\n"
          ]
        }
      ]
    },
    {
      "cell_type": "code",
      "source": [
        "a = float(input()) # вещественное число\n",
        "print(a + 1)"
      ],
      "metadata": {
        "colab": {
          "base_uri": "https://localhost:8080/"
        },
        "id": "GAA_nm4Cu-e4",
        "outputId": "4f5b58ac-bc3f-4bf1-c87e-a83e69606c90"
      },
      "execution_count": null,
      "outputs": [
        {
          "output_type": "stream",
          "name": "stdout",
          "text": [
            "7.6\n",
            "8.6\n"
          ]
        }
      ]
    },
    {
      "cell_type": "code",
      "source": [
        "x = int(input())\n",
        "y = int(input())\n",
        "print(x + y)"
      ],
      "metadata": {
        "colab": {
          "base_uri": "https://localhost:8080/"
        },
        "id": "hNUoNtJfvRoR",
        "outputId": "caa59440-60be-413b-d766-5758e8f6e060"
      },
      "execution_count": null,
      "outputs": [
        {
          "output_type": "stream",
          "name": "stdout",
          "text": [
            "5\n",
            "6\n",
            "11\n"
          ]
        }
      ]
    },
    {
      "cell_type": "code",
      "source": [
        "x = int(input())\n",
        "y = int(input())\n",
        "print(x + y)"
      ],
      "metadata": {
        "colab": {
          "base_uri": "https://localhost:8080/",
          "height": 193
        },
        "id": "znxrXIzgva27",
        "outputId": "344a2cdd-2c0b-41e2-c51c-43e4d03defff"
      },
      "execution_count": null,
      "outputs": [
        {
          "name": "stdout",
          "output_type": "stream",
          "text": [
            "5 6\n"
          ]
        },
        {
          "output_type": "error",
          "ename": "ValueError",
          "evalue": "invalid literal for int() with base 10: '5 6'",
          "traceback": [
            "\u001b[0;31m---------------------------------------------------------------------------\u001b[0m",
            "\u001b[0;31mValueError\u001b[0m                                Traceback (most recent call last)",
            "\u001b[0;32m<ipython-input-7-4fc0d2368c63>\u001b[0m in \u001b[0;36m<cell line: 1>\u001b[0;34m()\u001b[0m\n\u001b[0;32m----> 1\u001b[0;31m \u001b[0mx\u001b[0m \u001b[0;34m=\u001b[0m \u001b[0mint\u001b[0m\u001b[0;34m(\u001b[0m\u001b[0minput\u001b[0m\u001b[0;34m(\u001b[0m\u001b[0;34m)\u001b[0m\u001b[0;34m)\u001b[0m\u001b[0;34m\u001b[0m\u001b[0;34m\u001b[0m\u001b[0m\n\u001b[0m\u001b[1;32m      2\u001b[0m \u001b[0my\u001b[0m \u001b[0;34m=\u001b[0m \u001b[0mint\u001b[0m\u001b[0;34m(\u001b[0m\u001b[0minput\u001b[0m\u001b[0;34m(\u001b[0m\u001b[0;34m)\u001b[0m\u001b[0;34m)\u001b[0m\u001b[0;34m\u001b[0m\u001b[0;34m\u001b[0m\u001b[0m\n\u001b[1;32m      3\u001b[0m \u001b[0mprint\u001b[0m\u001b[0;34m(\u001b[0m\u001b[0mx\u001b[0m \u001b[0;34m+\u001b[0m \u001b[0my\u001b[0m\u001b[0;34m)\u001b[0m\u001b[0;34m\u001b[0m\u001b[0;34m\u001b[0m\u001b[0m\n",
            "\u001b[0;31mValueError\u001b[0m: invalid literal for int() with base 10: '5 6'"
          ]
        }
      ]
    },
    {
      "cell_type": "code",
      "source": [
        "x, y = map(int, input().split())\n",
        "print(x + y)"
      ],
      "metadata": {
        "colab": {
          "base_uri": "https://localhost:8080/"
        },
        "id": "y3t4N4cDvgd1",
        "outputId": "2e702011-b25f-499b-fa42-9ae5193f9217"
      },
      "execution_count": null,
      "outputs": [
        {
          "output_type": "stream",
          "name": "stdout",
          "text": [
            "5 6 \n",
            "11\n"
          ]
        }
      ]
    },
    {
      "cell_type": "markdown",
      "source": [
        "# Перемена значений двух перменных"
      ],
      "metadata": {
        "id": "GZV7A1l119Xb"
      }
    },
    {
      "cell_type": "code",
      "source": [
        "x = 5\n",
        "y = 8\n",
        "\n",
        "y = 8\n",
        "x = 5"
      ],
      "metadata": {
        "id": "hK-5YWO02CKW"
      },
      "execution_count": null,
      "outputs": []
    },
    {
      "cell_type": "code",
      "source": [
        "x = 5\n",
        "y = 8\n",
        "\n",
        "x = y\n",
        "y = x"
      ],
      "metadata": {
        "id": "z1GfKmSq2LXC"
      },
      "execution_count": null,
      "outputs": []
    },
    {
      "cell_type": "code",
      "source": [
        "x = 5\n",
        "y = 8\n",
        "\n",
        "x2 = x\n",
        "y2 = y\n",
        "\n",
        "x = y2\n",
        "y = x2\n",
        "\n",
        "print(x, y)"
      ],
      "metadata": {
        "colab": {
          "base_uri": "https://localhost:8080/"
        },
        "id": "2DgmGUqu2RRF",
        "outputId": "d8169828-b2a6-4841-802d-f23ef3ff527d"
      },
      "execution_count": null,
      "outputs": [
        {
          "output_type": "stream",
          "name": "stdout",
          "text": [
            "8 5\n"
          ]
        }
      ]
    },
    {
      "cell_type": "code",
      "source": [
        "x = 5\n",
        "y = 8\n",
        "\n",
        "t = x\n",
        "x = y\n",
        "y = t\n",
        "\n",
        "print(x, y)"
      ],
      "metadata": {
        "colab": {
          "base_uri": "https://localhost:8080/"
        },
        "id": "_rUT45Nw2fmP",
        "outputId": "4cc4c148-dafc-4ef0-e243-5eef2684da75"
      },
      "execution_count": null,
      "outputs": [
        {
          "output_type": "stream",
          "name": "stdout",
          "text": [
            "8 5\n"
          ]
        }
      ]
    },
    {
      "cell_type": "code",
      "source": [
        "x = 5\n",
        "y = 8\n",
        "\n",
        "x = x + y\n",
        "y = x - y\n",
        "x = x - y\n",
        "\n",
        "print(x, y)"
      ],
      "metadata": {
        "colab": {
          "base_uri": "https://localhost:8080/"
        },
        "id": "3QNEMgrj2ul_",
        "outputId": "316ff454-9984-4ad6-ef4b-d09777bd5c82"
      },
      "execution_count": null,
      "outputs": [
        {
          "output_type": "stream",
          "name": "stdout",
          "text": [
            "8 5\n"
          ]
        }
      ]
    },
    {
      "cell_type": "code",
      "source": [
        "x = 5\n",
        "y = 8\n",
        "\n",
        "x = x * y\n",
        "y = x // y\n",
        "x = x // y\n",
        "\n",
        "print(x, y)"
      ],
      "metadata": {
        "colab": {
          "base_uri": "https://localhost:8080/"
        },
        "id": "KRTG6bCO6es9",
        "outputId": "8c5be2bf-c625-498b-842a-643117f4145e"
      },
      "execution_count": null,
      "outputs": [
        {
          "output_type": "stream",
          "name": "stdout",
          "text": [
            "8 5\n"
          ]
        }
      ]
    },
    {
      "cell_type": "code",
      "source": [
        "x = 5\n",
        "y = 8\n",
        "\n",
        "x, y = y, x\n",
        "\n",
        "print(x, y)"
      ],
      "metadata": {
        "colab": {
          "base_uri": "https://localhost:8080/"
        },
        "id": "FpU1GpVh6oVE",
        "outputId": "f4b064f9-5fdd-468c-f71f-741855f63760"
      },
      "execution_count": null,
      "outputs": [
        {
          "output_type": "stream",
          "name": "stdout",
          "text": [
            "8 5\n"
          ]
        }
      ]
    },
    {
      "cell_type": "markdown",
      "source": [
        "# Условия"
      ],
      "metadata": {
        "id": "rIPc53hE7BHR"
      }
    },
    {
      "cell_type": "code",
      "source": [
        "x = int(input())\n",
        "if x > 0:\n",
        "    print(\">0\")"
      ],
      "metadata": {
        "id": "6VMLp6qo7Q2z"
      },
      "execution_count": null,
      "outputs": []
    },
    {
      "cell_type": "code",
      "source": [
        "x = int(input())\n",
        "if x > 0:\n",
        "    print(\">0\")\n",
        "else:\n",
        "    print(\"<=0\")"
      ],
      "metadata": {
        "id": "n4PZ_fzk7djq"
      },
      "execution_count": null,
      "outputs": []
    },
    {
      "cell_type": "code",
      "source": [
        "x = int(input())\n",
        "if x > 0:\n",
        "    print(\">0\")\n",
        "else:\n",
        "    if x < 0:\n",
        "        print(\"<0\")\n",
        "    else:\n",
        "        print(\"=0\")"
      ],
      "metadata": {
        "id": "OUpmIzcz7kKi"
      },
      "execution_count": null,
      "outputs": []
    },
    {
      "cell_type": "code",
      "source": [
        "x = int(input())\n",
        "if x > 0:\n",
        "    print(\">0\")\n",
        "    print(\"Я тут!!\")\n",
        "print(\"Всегда выведется\")"
      ],
      "metadata": {
        "colab": {
          "base_uri": "https://localhost:8080/"
        },
        "id": "kcJVOXRx76LO",
        "outputId": "90cf0f6e-8683-4bf1-b32e-f3aec958fd33"
      },
      "execution_count": null,
      "outputs": [
        {
          "output_type": "stream",
          "name": "stdout",
          "text": [
            "-5\n",
            "Всегда выведется\n"
          ]
        }
      ]
    },
    {
      "cell_type": "code",
      "source": [
        "if x > 0:\n",
        "    print(\">0\")\n",
        "    print(\"Я тут!!\")\n",
        "print(\"Всегда выведется\")\n",
        "else:\n",
        "    print(\"тут\")"
      ],
      "metadata": {
        "colab": {
          "base_uri": "https://localhost:8080/",
          "height": 106
        },
        "id": "T5h7Tyg28Lkk",
        "outputId": "b6f414da-7552-44c0-a509-b7c480b75cd6"
      },
      "execution_count": null,
      "outputs": [
        {
          "output_type": "error",
          "ename": "SyntaxError",
          "evalue": "invalid syntax (<ipython-input-17-f76689f5b6d8>, line 5)",
          "traceback": [
            "\u001b[0;36m  File \u001b[0;32m\"<ipython-input-17-f76689f5b6d8>\"\u001b[0;36m, line \u001b[0;32m5\u001b[0m\n\u001b[0;31m    else:\u001b[0m\n\u001b[0m    ^\u001b[0m\n\u001b[0;31mSyntaxError\u001b[0m\u001b[0;31m:\u001b[0m invalid syntax\n"
          ]
        }
      ]
    },
    {
      "cell_type": "code",
      "source": [
        "if x > 0:\n",
        "    print(\">0\")\n",
        "    print(\"Я тут!!\")\n",
        "else x<0:\n",
        "  print(\"jkasdjk\")"
      ],
      "metadata": {
        "colab": {
          "base_uri": "https://localhost:8080/",
          "height": 106
        },
        "id": "fYf0bmjr8XNl",
        "outputId": "dc7688bc-c740-4eee-9d8f-617bc217e806"
      },
      "execution_count": null,
      "outputs": [
        {
          "output_type": "error",
          "ename": "SyntaxError",
          "evalue": "expected ':' (<ipython-input-18-fe230232e76f>, line 4)",
          "traceback": [
            "\u001b[0;36m  File \u001b[0;32m\"<ipython-input-18-fe230232e76f>\"\u001b[0;36m, line \u001b[0;32m4\u001b[0m\n\u001b[0;31m    else x<0:\u001b[0m\n\u001b[0m         ^\u001b[0m\n\u001b[0;31mSyntaxError\u001b[0m\u001b[0;31m:\u001b[0m expected ':'\n"
          ]
        }
      ]
    },
    {
      "cell_type": "code",
      "source": [
        "if x > 0:\n",
        "    print(\">0\")\n",
        "    print(\"Я тут!!\")\n",
        "elif x<0:\n",
        "  print(\"jkasdjk\")\n",
        "elif x==0:\n",
        "  print(\"jkasdjk\")\n",
        "else:\n",
        "  print(\"else\")"
      ],
      "metadata": {
        "id": "8JHUUXpT8gS_"
      },
      "execution_count": null,
      "outputs": []
    },
    {
      "cell_type": "code",
      "source": [
        "if x > 0:\n",
        "  ...\n",
        "if x < 0:\n",
        "  ...\n",
        "if x <= 0:\n",
        "  ...\n",
        "if x >= 0:\n",
        "  ...\n",
        "if x == 0:\n",
        "  ...\n",
        "if x != 0:\n",
        "  ..."
      ],
      "metadata": {
        "id": "kvcMXN5P8rW9"
      },
      "execution_count": null,
      "outputs": []
    },
    {
      "cell_type": "markdown",
      "source": [],
      "metadata": {
        "id": "5KUNEh9l7I85"
      }
    },
    {
      "cell_type": "markdown",
      "source": [
        "# Таблицы истинности"
      ],
      "metadata": {
        "id": "4DruljxtRTXd"
      }
    },
    {
      "cell_type": "markdown",
      "source": [
        "![image.png](data:image/png;base64,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)"
      ],
      "metadata": {
        "id": "OWFeepOCRYZj"
      }
    },
    {
      "cell_type": "code",
      "source": [
        "import itertools\n",
        "\n",
        "for x, y, z, w in itertools.product([0, 1], repeat=4):\n",
        "    print(x, y, z, w, int(not ((x or y) <= (z and w)) and (x <= w)))"
      ],
      "metadata": {
        "colab": {
          "base_uri": "https://localhost:8080/"
        },
        "id": "GcONqJZURWZK",
        "outputId": "5b84af11-92b1-4974-d4eb-d871e7393745"
      },
      "execution_count": null,
      "outputs": [
        {
          "output_type": "stream",
          "name": "stdout",
          "text": [
            "0 0 0 0 0\n",
            "0 0 0 1 0\n",
            "0 0 1 0 0\n",
            "0 0 1 1 0\n",
            "0 1 0 0 1\n",
            "0 1 0 1 1\n",
            "0 1 1 0 1\n",
            "0 1 1 1 0\n",
            "1 0 0 0 0\n",
            "1 0 0 1 1\n",
            "1 0 1 0 0\n",
            "1 0 1 1 0\n",
            "1 1 0 0 0\n",
            "1 1 0 1 1\n",
            "1 1 1 0 0\n",
            "1 1 1 1 0\n"
          ]
        }
      ]
    },
    {
      "cell_type": "code",
      "source": [
        "# ((y → z) ∨ (¬x ∧ w)) ≡ (w ≡ z)\n",
        "\n",
        "import itertools\n",
        "\n",
        "for x, y, z, w in itertools.product([0, 1], repeat=4):\n",
        "    t = int(((y <= z) or ((not x) and w)) == (w == z))\n",
        "    print(x, y, z, w, t)"
      ],
      "metadata": {
        "colab": {
          "base_uri": "https://localhost:8080/"
        },
        "id": "doFzjZ5OMrNg",
        "outputId": "af60bfb0-d5da-4f69-bc10-0d3a877af66c"
      },
      "execution_count": null,
      "outputs": [
        {
          "output_type": "stream",
          "name": "stdout",
          "text": [
            "0 0 0 0 1\n",
            "0 0 0 1 0\n",
            "0 0 1 0 0\n",
            "0 0 1 1 1\n",
            "0 1 0 0 0\n",
            "0 1 0 1 0\n",
            "0 1 1 0 0\n",
            "0 1 1 1 1\n",
            "1 0 0 0 1\n",
            "1 0 0 1 0\n",
            "1 0 1 0 0\n",
            "1 0 1 1 1\n",
            "1 1 0 0 0\n",
            "1 1 0 1 1\n",
            "1 1 1 0 0\n",
            "1 1 1 1 1\n"
          ]
        }
      ]
    },
    {
      "cell_type": "code",
      "source": [
        "# (x ∨ ¬y) ∧ z\n",
        "\n",
        "import itertools\n",
        "\n",
        "for x, y, z in itertools.product([0, 1], repeat=3):\n",
        "    t = int((x or (not y)) and z)\n",
        "    print(x, y, z, w, t)"
      ],
      "metadata": {
        "colab": {
          "base_uri": "https://localhost:8080/"
        },
        "id": "TRUtSsT_NCFe",
        "outputId": "8f8d7ec0-2d00-420e-a5f2-af11fc0f1e50"
      },
      "execution_count": null,
      "outputs": [
        {
          "output_type": "stream",
          "name": "stdout",
          "text": [
            "0 0 0 1 0\n",
            "0 0 1 1 1\n",
            "0 1 0 1 0\n",
            "0 1 1 1 0\n",
            "1 0 0 1 0\n",
            "1 0 1 1 1\n",
            "1 1 0 1 0\n",
            "1 1 1 1 1\n"
          ]
        }
      ]
    },
    {
      "cell_type": "markdown",
      "source": [
        "# Составные условия"
      ],
      "metadata": {
        "id": "Lid26FFtVtDn"
      }
    },
    {
      "cell_type": "code",
      "source": [
        "# x ∧ y\n",
        "if x and y:\n",
        "  ...\n",
        "\n",
        "# x ∨ y\n",
        "if x or y:\n",
        "  ...\n",
        "\n",
        "# x ≡ y\n",
        "if x == y:\n",
        "  ...\n",
        "\n",
        "# x → y\n",
        "if x <= y:\n",
        "  ...\n",
        "\n",
        "# ¬y\n",
        "if (not y):\n",
        "  ...\n",
        "\n",
        "\n",
        "# ((x ∨ ¬y) ∧ (¬z ≡ w)) → (y ∧ z)\n",
        "if ((x or (not y)) and ((not z) == w)) <= (y and z):\n",
        "  ..."
      ],
      "metadata": {
        "id": "YC3_NawRVyZJ"
      },
      "execution_count": null,
      "outputs": []
    },
    {
      "cell_type": "markdown",
      "source": [
        "Вводятся три строки.\n",
        "Если первая На старт!, вторая Внимание!, а третья Марш!, то нужно вывести: Бежим!, иначе вывести Фальстарт."
      ],
      "metadata": {
        "id": "yhRS2szoO2kq"
      }
    },
    {
      "cell_type": "code",
      "source": [
        "s1 = input()\n",
        "s2 = input()\n",
        "s3 = input()\n",
        "if s1 ==\"На старт!\" and s2 == \"Внимание!\" and s3 == \"Марш!\":\n",
        "  print(\"Бежим!\")\n",
        "else:\n",
        "  print (\"Фальстарт\")"
      ],
      "metadata": {
        "colab": {
          "base_uri": "https://localhost:8080/"
        },
        "id": "P3Du5UPUO4LC",
        "outputId": "2b648adc-4018-48e4-92e9-d391ca2a236d"
      },
      "execution_count": null,
      "outputs": [
        {
          "output_type": "stream",
          "name": "stdout",
          "text": [
            "213\n",
            "1\n",
            "3\n",
            "Фальстарт\n"
          ]
        }
      ]
    },
    {
      "cell_type": "markdown",
      "source": [
        "Вводится три строки. Если они такие:\n",
        "\n",
        "3\n",
        "2\n",
        "1\n",
        "\n",
        "или такие:\n",
        "\n",
        "три\n",
        "два\n",
        "один\n",
        "\n",
        "то нужно вывести: ПУСК, иначе вывести ОШИБКА."
      ],
      "metadata": {
        "id": "bN9SuQetUWP2"
      }
    },
    {
      "cell_type": "code",
      "source": [
        "s1 = input()\n",
        "s2 = input()\n",
        "s3 = input()\n",
        "if s1 ==\"3\" and s2 == \"2\" and s3 == \"1\" or s1 ==\"три\" and s2 == \"два\" and s3 == \"один\":\n",
        "  print(\"ПУСК\")\n",
        "else:\n",
        "  print (\"ОШИБКА\")"
      ],
      "metadata": {
        "id": "85MUQhN3UX4Q"
      },
      "execution_count": null,
      "outputs": []
    },
    {
      "cell_type": "code",
      "source": [
        "s1 = input()\n",
        "s2 = input()\n",
        "s3 = input()\n",
        "if s1 ==\"3\" and s2 == \"2\" and s3 == \"1\":\n",
        "  print(\"ПУСК\")\n",
        "elif s1 ==\"три\" and s2 == \"два\" and s3 == \"один\":\n",
        "  print(\"ПУСК\")\n",
        "else:\n",
        "  print (\"ОШИБКА\")"
      ],
      "metadata": {
        "id": "p9LOmkNTUr84"
      },
      "execution_count": null,
      "outputs": []
    },
    {
      "cell_type": "markdown",
      "source": [
        "# Строки. Начало"
      ],
      "metadata": {
        "id": "J8f-LEolWy1H"
      }
    },
    {
      "cell_type": "code",
      "source": [
        "s = \"Пример\"\n",
        "s2 = \"Вася\"\n",
        "s3 = s + s2\n",
        "print(s3)"
      ],
      "metadata": {
        "colab": {
          "base_uri": "https://localhost:8080/"
        },
        "id": "LFGQOkn7W2FS",
        "outputId": "afbe21a2-0055-4fbb-d658-a6a2da79c196"
      },
      "execution_count": null,
      "outputs": [
        {
          "output_type": "stream",
          "name": "stdout",
          "text": [
            "ПримерВася\n"
          ]
        }
      ]
    },
    {
      "cell_type": "code",
      "source": [
        "s = \"Пример\"\n",
        "\n",
        "print(s[0])\n",
        "print(s[1])\n",
        "print(s[-1])"
      ],
      "metadata": {
        "colab": {
          "base_uri": "https://localhost:8080/"
        },
        "id": "n0rQFh-FXBUX",
        "outputId": "a272e40c-af50-424c-be72-19baaa53dfad"
      },
      "execution_count": null,
      "outputs": [
        {
          "output_type": "stream",
          "name": "stdout",
          "text": [
            "П\n",
            "р\n",
            "р\n"
          ]
        }
      ]
    },
    {
      "cell_type": "code",
      "source": [
        "s = \"Пример\"\n",
        "\n",
        "print(\"им\" in s)\n",
        "print(\"бим\" in s)\n",
        "\n",
        "if \"им\" in s:\n",
        "  print(\"им есть в строке\")\n",
        "\n",
        "if \"им\" not in s:\n",
        "  print(\"им нет есть в строке\")"
      ],
      "metadata": {
        "colab": {
          "base_uri": "https://localhost:8080/"
        },
        "id": "fu_EQSakXLfK",
        "outputId": "6a45a851-68e1-4f24-ef83-938727c944de"
      },
      "execution_count": null,
      "outputs": [
        {
          "output_type": "stream",
          "name": "stdout",
          "text": [
            "True\n",
            "False\n",
            "им есть в строке\n"
          ]
        }
      ]
    },
    {
      "cell_type": "code",
      "source": [
        "if 1 + 2 == 3:\n",
        "  print(\"OK\")\n",
        "else:\n",
        "  print(\"NO\")"
      ],
      "metadata": {
        "colab": {
          "base_uri": "https://localhost:8080/"
        },
        "id": "0uyNsachD1XW",
        "outputId": "ac4c5394-dfbd-42b2-9a07-354a5ff42ac2"
      },
      "execution_count": 1,
      "outputs": [
        {
          "output_type": "stream",
          "name": "stdout",
          "text": [
            "OK\n"
          ]
        }
      ]
    },
    {
      "cell_type": "code",
      "source": [
        "if 0.1 + 0.2 == 0.3:\n",
        "  print(\"OK\")\n",
        "else:\n",
        "  print(\"NO\")"
      ],
      "metadata": {
        "colab": {
          "base_uri": "https://localhost:8080/"
        },
        "id": "vbMDR50AEGjF",
        "outputId": "0f0514eb-95c2-40b8-944b-8aec24449f42"
      },
      "execution_count": 2,
      "outputs": [
        {
          "output_type": "stream",
          "name": "stdout",
          "text": [
            "NO\n"
          ]
        }
      ]
    },
    {
      "cell_type": "code",
      "source": [
        "print(0.1 + 0.2)"
      ],
      "metadata": {
        "colab": {
          "base_uri": "https://localhost:8080/"
        },
        "id": "eVj9JnsDERJ6",
        "outputId": "7a882fb6-cd7f-45bd-d1b9-dbfa797f3fa9"
      },
      "execution_count": 3,
      "outputs": [
        {
          "output_type": "stream",
          "name": "stdout",
          "text": [
            "0.30000000000000004\n"
          ]
        }
      ]
    },
    {
      "cell_type": "code",
      "source": [
        "x = 5\n",
        "x = -x"
      ],
      "metadata": {
        "id": "x-flswBJHaCg"
      },
      "execution_count": null,
      "outputs": []
    },
    {
      "cell_type": "code",
      "source": [
        "print(int(2.2))\n",
        "print(round(2.2))"
      ],
      "metadata": {
        "colab": {
          "base_uri": "https://localhost:8080/"
        },
        "id": "IRs4AJyGIVVl",
        "outputId": "81ce6a7c-13d0-4ed9-cb4d-b4abb262cf4b"
      },
      "execution_count": 5,
      "outputs": [
        {
          "output_type": "stream",
          "name": "stdout",
          "text": [
            "2\n",
            "2\n"
          ]
        }
      ]
    },
    {
      "cell_type": "code",
      "source": [
        "print(int(2.5))\n",
        "print(round(2.5))"
      ],
      "metadata": {
        "colab": {
          "base_uri": "https://localhost:8080/"
        },
        "id": "e4YJ0qztIeWi",
        "outputId": "6278b970-1197-4ee4-8d22-34e8ef207761"
      },
      "execution_count": 7,
      "outputs": [
        {
          "output_type": "stream",
          "name": "stdout",
          "text": [
            "2\n",
            "2\n"
          ]
        }
      ]
    },
    {
      "cell_type": "code",
      "source": [
        "print(int(2.6))\n",
        "print(round(2.6))"
      ],
      "metadata": {
        "colab": {
          "base_uri": "https://localhost:8080/"
        },
        "id": "1h0-Wq2UIiYo",
        "outputId": "66060020-f933-4f87-fe9b-d4a54dc8e118"
      },
      "execution_count": 8,
      "outputs": [
        {
          "output_type": "stream",
          "name": "stdout",
          "text": [
            "2\n",
            "3\n"
          ]
        }
      ]
    },
    {
      "cell_type": "code",
      "source": [
        "print(int(2.50000001))\n",
        "print(round(2.500000001))"
      ],
      "metadata": {
        "colab": {
          "base_uri": "https://localhost:8080/"
        },
        "id": "4JjMSxbgIlTZ",
        "outputId": "cdb5dfeb-19ad-4fac-dfac-f2ade79a4d22"
      },
      "execution_count": 9,
      "outputs": [
        {
          "output_type": "stream",
          "name": "stdout",
          "text": [
            "2\n",
            "3\n"
          ]
        }
      ]
    },
    {
      "cell_type": "code",
      "source": [
        "print(round(1/3, 3))\n",
        "print(round(2/3, 5))"
      ],
      "metadata": {
        "colab": {
          "base_uri": "https://localhost:8080/"
        },
        "id": "M0BQ0iGFItfq",
        "outputId": "d9bb5dc2-946d-4a5f-eb5b-4b8ee10d3573"
      },
      "execution_count": 12,
      "outputs": [
        {
          "output_type": "stream",
          "name": "stdout",
          "text": [
            "0.333\n",
            "0.66667\n"
          ]
        }
      ]
    },
    {
      "cell_type": "code",
      "source": [
        "s = \"bla 6\\n\"\n",
        "print(len(s))"
      ],
      "metadata": {
        "colab": {
          "base_uri": "https://localhost:8080/"
        },
        "id": "2IUfKSY5I6ZD",
        "outputId": "2cd6d9bd-5678-4247-ca2e-23f4fadacd54"
      },
      "execution_count": 15,
      "outputs": [
        {
          "output_type": "stream",
          "name": "stdout",
          "text": [
            "6\n"
          ]
        }
      ]
    },
    {
      "cell_type": "code",
      "source": [
        "print(min(5, 6))\n",
        "print(max(5, 6))"
      ],
      "metadata": {
        "colab": {
          "base_uri": "https://localhost:8080/"
        },
        "id": "zlJZnB4nJHOm",
        "outputId": "ff752648-aab6-4125-cf4e-e5cb6000f323"
      },
      "execution_count": 17,
      "outputs": [
        {
          "output_type": "stream",
          "name": "stdout",
          "text": [
            "5\n",
            "6\n"
          ]
        }
      ]
    },
    {
      "cell_type": "code",
      "source": [
        "print(max(range(5,30)))"
      ],
      "metadata": {
        "colab": {
          "base_uri": "https://localhost:8080/"
        },
        "id": "LhWjYt6EJOMM",
        "outputId": "591837f0-d137-468e-faad-555bbbe39b80"
      },
      "execution_count": 18,
      "outputs": [
        {
          "output_type": "stream",
          "name": "stdout",
          "text": [
            "29\n"
          ]
        }
      ]
    },
    {
      "cell_type": "code",
      "source": [
        "x = int(input()) # длина сообщения 3\n",
        "s = input() # текст blabla\n",
        "\n",
        "k = len(s) // x\n",
        "if len(s) % x != 0:\n",
        "  k = k + 1\n",
        "print(k)\n"
      ],
      "metadata": {
        "colab": {
          "base_uri": "https://localhost:8080/"
        },
        "id": "371Qfw7oJXSe",
        "outputId": "931898c5-8caa-44cb-df14-468a06a5df58"
      },
      "execution_count": 19,
      "outputs": [
        {
          "output_type": "stream",
          "name": "stdout",
          "text": [
            "3\n",
            "blablab\n",
            "3\n"
          ]
        }
      ]
    },
    {
      "cell_type": "code",
      "source": [
        "x = int(input()) # длина сообщения 3\n",
        "s = input() # текст blabla\n",
        "\n",
        "k = len(s) // x + 1 - int(len(s) % x == 0)\n",
        "print(k)"
      ],
      "metadata": {
        "colab": {
          "base_uri": "https://localhost:8080/"
        },
        "id": "bCdrnq3KKmYO",
        "outputId": "e05c075e-867a-407c-a385-529074ccf7aa"
      },
      "execution_count": 20,
      "outputs": [
        {
          "output_type": "stream",
          "name": "stdout",
          "text": [
            "3\n",
            "blablab\n",
            "3\n"
          ]
        }
      ]
    },
    {
      "cell_type": "code",
      "source": [
        "x = 3\n",
        "print(x >> 1)\n",
        "print(x << 1)"
      ],
      "metadata": {
        "colab": {
          "base_uri": "https://localhost:8080/"
        },
        "id": "S13u9u24LLGt",
        "outputId": "a0d3fb4a-b247-4678-baf7-b85d900a104c"
      },
      "execution_count": 22,
      "outputs": [
        {
          "output_type": "stream",
          "name": "stdout",
          "text": [
            "1\n",
            "6\n"
          ]
        }
      ]
    }
  ]
}